{
  "nbformat": 4,
  "nbformat_minor": 0,
  "metadata": {
    "kernelspec": {
      "display_name": "Python 3",
      "language": "python",
      "name": "python3"
    },
    "language_info": {
      "codemirror_mode": {
        "name": "ipython",
        "version": 2
      },
      "file_extension": ".py",
      "mimetype": "text/x-python",
      "name": "python",
      "nbconvert_exporter": "python",
      "pygments_lexer": "ipython2",
      "version": "2.7.6"
    },
    "colab": {
      "name": "QuarantineSports.ipynb",
      "provenance": [],
      "toc_visible": true,
      "include_colab_link": true
    }
  },
  "cells": [
    {
      "cell_type": "markdown",
      "metadata": {
        "id": "view-in-github",
        "colab_type": "text"
      },
      "source": [
        "<a href=\"https://colab.research.google.com/github/Gabor132/QuarantineSportsClassifier/blob/master/src/QuarantineSportsTrainModel.ipynb\" target=\"_parent\"><img src=\"https://colab.research.google.com/assets/colab-badge.svg\" alt=\"Open In Colab\"/></a>"
      ]
    },
    {
      "cell_type": "markdown",
      "metadata": {
        "id": "vayM6pl1hDcd",
        "colab_type": "text",
        "pycharm": {
          "name": "#%% md\n"
        }
      },
      "source": [
        "# Quarantine Sports Classifier Training"
      ]
    },
    {
      "cell_type": "markdown",
      "metadata": {
        "id": "b094aVxOhJnf",
        "colab_type": "text",
        "pycharm": {
          "name": "#%% md\n"
        }
      },
      "source": [
        "## Imports"
      ]
    },
    {
      "cell_type": "code",
      "metadata": {
        "colab_type": "code",
        "id": "Ar4UBA-mhFyJ",
        "colab": {
          "base_uri": "https://localhost:8080/",
          "height": 35
        },
        "outputId": "4e706ade-4d5c-4dbf-dce0-2700c9fee840"
      },
      "source": [
        "import keras\n",
        "import numpy as np\n",
        "import pandas as pd\n",
        "import matplotlib.pyplot as plt\n",
        "from sklearn.model_selection import train_test_split\n",
        "from keras.utils.vis_utils import plot_model\n",
        "from keras.utils import to_categorical\n",
        "from keras.models import model_from_json\n"
      ],
      "execution_count": 1,
      "outputs": [
        {
          "output_type": "stream",
          "text": [
            "Using TensorFlow backend.\n"
          ],
          "name": "stderr"
        }
      ]
    },
    {
      "cell_type": "markdown",
      "metadata": {
        "id": "mH9guuXpw09P",
        "colab_type": "text"
      },
      "source": [
        "## Constants"
      ]
    },
    {
      "cell_type": "code",
      "metadata": {
        "id": "WcY0e3PTw2jb",
        "colab_type": "code",
        "colab": {}
      },
      "source": [
        "learning_rate = 0.01\n",
        "testing_data_percentage = 0.2\n",
        "nr_of_frames_per_sequence = 15\n",
        "nr_of_keypoints = 25\n",
        "nr_of_values_per_keypoint = 3\n",
        "\n",
        "all_files_names = [\"video1.json\", \"video2.json\", \"video3.json\"]\n",
        "\n",
        "# Dataset paths\n",
        "DRAGOS_COLAB_DATASET_PATH = \"/content/drive/My Drive/QuarantineSportsDatasets/Dataset/OpenPoseDataset/\"\n",
        "LOCAL_DATASET_PATH = \"../datasets/\"\n",
        "\n",
        "# Model paths\n",
        "DRAGOS_COLAB_MODEL_PATH = \"/content/drive/My Drive/QuarantineSportsDatasets/Model/\"\n",
        "LOCAL_MODEL_PATH = \"../\""
      ],
      "execution_count": 0,
      "outputs": []
    },
    {
      "cell_type": "code",
      "metadata": {
        "id": "-u1vWejYa1Ob",
        "colab_type": "code",
        "colab": {}
      },
      "source": [
        "current_path = DRAGOS_COLAB_DATASET_PATH\n",
        "current_model_path = DRAGOS_COLAB_MODEL_PATH"
      ],
      "execution_count": 0,
      "outputs": []
    },
    {
      "cell_type": "code",
      "metadata": {
        "id": "6cENXg0S81Lf",
        "colab_type": "code",
        "outputId": "4b854800-5317-41f9-ca6f-82052abb42a5",
        "colab": {
          "base_uri": "https://localhost:8080/",
          "height": 55
        }
      },
      "source": [
        "dataset_paths = []\n",
        "for path in all_files_names:\n",
        "  dataset_path = current_path + path\n",
        "  dataset_paths.append(dataset_path)\n",
        "\n",
        "print(\"All files found: {}\".format(dataset_paths))"
      ],
      "execution_count": 4,
      "outputs": [
        {
          "output_type": "stream",
          "text": [
            "All files found: ['/content/drive/My Drive/QuarantineSportsDatasets/Dataset/OpenPoseDataset/video1.json', '/content/drive/My Drive/QuarantineSportsDatasets/Dataset/OpenPoseDataset/video2.json', '/content/drive/My Drive/QuarantineSportsDatasets/Dataset/OpenPoseDataset/video3.json']\n"
          ],
          "name": "stdout"
        }
      ]
    },
    {
      "cell_type": "markdown",
      "metadata": {
        "id": "w4Naobi1hABh",
        "colab_type": "text",
        "pycharm": {
          "name": "#%% md\n"
        }
      },
      "source": [
        "## Load Datasets and create X and Y\n",
        "\n",
        "## Important to know\n",
        "\n",
        "1.   Out of open pose we extract for all frames all the 25 keypoints (each keypoint contains the X, Y and score)\n",
        "2.   The Category exists per frame and is 0/1 as in Wrong/Correct as in Not a Push-Up Frame/Is a Push Up Frame\n"
      ]
    },
    {
      "cell_type": "code",
      "metadata": {
        "id": "agJssUaRasLn",
        "colab_type": "code",
        "outputId": "f16a9895-33be-43cf-ea31-85ccbcf8f1ca",
        "colab": {
          "base_uri": "https://localhost:8080/",
          "height": 164
        }
      },
      "source": [
        "y_total = None\n",
        "x_total = None\n",
        "for (index, path) in enumerate(dataset_paths):\n",
        "  print(\"For file at {}\".format(path))\n",
        "  df = pd.read_json(path)\n",
        "  keypoints = df['Keypoints'].values\n",
        "  file_y = df['Category'].values\n",
        "  file_x = []\n",
        "  for k in keypoints:\n",
        "      if k != None:\n",
        "          newK = np.reshape(np.asarray(k), (25,3))\n",
        "          file_x.append(newK)\n",
        "      else:\n",
        "          file_x.append(np.reshape(np.zeros(75), (25,3)))\n",
        "  file_x = np.array(file_x)\n",
        "  print(\"X: {} and Y: {}\".format(file_x.shape, file_y.shape))\n",
        "  if np.all(x_total == None):\n",
        "    x_total = file_x\n",
        "  else:\n",
        "    x_total = np.vstack((x_total, file_x))\n",
        "  if np.all(y_total == None):\n",
        "    y_total = file_y\n",
        "  else:\n",
        "    y_total = np.hstack((y_total, file_y))\n",
        "print(\"Total X: {}\".format(x_total.shape))\n",
        "print(\"Total Y: {}\".format(y_total.shape))"
      ],
      "execution_count": 5,
      "outputs": [
        {
          "output_type": "stream",
          "text": [
            "For file at /content/drive/My Drive/QuarantineSportsDatasets/Dataset/OpenPoseDataset/video1.json\n",
            "X: (270, 25, 3) and Y: (270,)\n",
            "For file at /content/drive/My Drive/QuarantineSportsDatasets/Dataset/OpenPoseDataset/video2.json\n",
            "X: (2317, 25, 3) and Y: (2317,)\n",
            "For file at /content/drive/My Drive/QuarantineSportsDatasets/Dataset/OpenPoseDataset/video3.json\n",
            "X: (140, 25, 3) and Y: (140,)\n",
            "Total X: (2727, 25, 3)\n",
            "Total Y: (2727,)\n"
          ],
          "name": "stdout"
        }
      ]
    },
    {
      "cell_type": "markdown",
      "metadata": {
        "id": "TcT9VZ-QoK9Q",
        "colab_type": "text"
      },
      "source": [
        "## Splitting the dataset into categories (wrong and correct)"
      ]
    },
    {
      "cell_type": "code",
      "metadata": {
        "id": "WryRhwOooJvm",
        "colab_type": "code",
        "colab": {}
      },
      "source": [
        "# Get Indexes\n",
        "y_wrong_index = np.where(y_total == 0)\n",
        "y_correct_index = np.where(y_total == 1)\n",
        "# Get Values\n",
        "x_wrong = x_total[y_wrong_index]\n",
        "y_wrong = y_total[y_wrong_index]\n",
        "x_correct = x_total[y_correct_index]\n",
        "y_correct = y_total[y_correct_index]\n"
      ],
      "execution_count": 0,
      "outputs": []
    },
    {
      "cell_type": "markdown",
      "metadata": {
        "id": "9oq8rBRLoKZc",
        "colab_type": "text"
      },
      "source": [
        "## Further splitting the frames into sequences"
      ]
    },
    {
      "cell_type": "code",
      "metadata": {
        "id": "SbPD8W4EqTxq",
        "colab_type": "code",
        "outputId": "34c7cd8b-5df7-4c52-c203-42946d4c4aac",
        "colab": {
          "base_uri": "https://localhost:8080/",
          "height": 274
        }
      },
      "source": [
        "print(\"Initial shapes\")\n",
        "print(\"y_wrong: {}\".format(y_wrong.shape))\n",
        "print(\"y_correct: {}\".format(y_correct.shape))\n",
        "print(\"x_wrong: {}\".format(x_wrong.shape))\n",
        "print(\"x_correct: {}\".format(x_correct.shape))\n",
        "\n",
        "class FrameSet:\n",
        "\n",
        "  def __init__(self, x, y):\n",
        "    self.x = x\n",
        "    self.y = y\n",
        "\n",
        "def get_maximum_number_of_usable_frames(a):\n",
        "  divider = nr_of_frames_per_sequence\n",
        "  i = 1\n",
        "  while (divider * i) < len(a):\n",
        "    i = i + 1\n",
        "  return divider * (i-1)\n",
        "\n",
        "def transform_y_into_frame_sets(a):\n",
        "  number_of_sets = get_maximum_number_of_usable_frames(a)\n",
        "  print(\"Number of sets: {}\".format(number_of_sets))\n",
        "  new_y = None\n",
        "  if np.any(a == 0):\n",
        "    new_y = np.zeros((int) (number_of_sets / nr_of_frames_per_sequence))\n",
        "  else:\n",
        "    new_y = np.ones((int) (number_of_sets / nr_of_frames_per_sequence))\n",
        "  return new_y\n",
        "\n",
        "def transform_x_into_frame_sets(a):\n",
        "  number_of_sets = get_maximum_number_of_usable_frames(a)\n",
        "  print(\"Number of sets: {}\".format(number_of_sets))\n",
        "  sub_group_size = a[0:number_of_sets]\n",
        "  return np.reshape(sub_group_size, ((int) (number_of_sets / nr_of_frames_per_sequence), nr_of_frames_per_sequence, nr_of_keypoints * nr_of_values_per_keypoint))\n",
        "\n",
        "y_wrong = transform_y_into_frame_sets(y_wrong)\n",
        "y_correct = transform_y_into_frame_sets(y_correct)\n",
        "x_wrong = transform_x_into_frame_sets(x_wrong)\n",
        "x_correct = transform_x_into_frame_sets(x_correct)\n",
        "print(\"After reshaping\")\n",
        "print(\"y_wrong: {}\".format(y_wrong.shape))\n",
        "print(\"y_correct: {}\".format(y_correct.shape))\n",
        "print(\"x_wrong: {}\".format(x_wrong.shape))\n",
        "print(\"x_correct: {}\".format(x_correct.shape))"
      ],
      "execution_count": 7,
      "outputs": [
        {
          "output_type": "stream",
          "text": [
            "Initial shapes\n",
            "y_wrong: (2057,)\n",
            "y_correct: (670,)\n",
            "x_wrong: (2057, 25, 3)\n",
            "x_correct: (670, 25, 3)\n",
            "Number of sets: 2055\n",
            "Number of sets: 660\n",
            "Number of sets: 2055\n",
            "Number of sets: 660\n",
            "After reshaping\n",
            "y_wrong: (137,)\n",
            "y_correct: (44,)\n",
            "x_wrong: (137, 15, 75)\n",
            "x_correct: (44, 15, 75)\n"
          ],
          "name": "stdout"
        }
      ]
    },
    {
      "cell_type": "markdown",
      "metadata": {
        "id": "gUOVmJhMvn3s",
        "colab_type": "text"
      },
      "source": [
        "## Recompine all wrong and correct arrays"
      ]
    },
    {
      "cell_type": "code",
      "metadata": {
        "id": "2NfEBzGJvl5U",
        "colab_type": "code",
        "outputId": "e9af10d0-e637-4f93-c9fb-6378634ae7d0",
        "colab": {
          "base_uri": "https://localhost:8080/",
          "height": 54
        }
      },
      "source": [
        "# Only stack them when they are not empty\n",
        "x_processed = None\n",
        "y_processed = None\n",
        "x_processed = np.concatenate((x_correct, x_wrong))\n",
        "y_processed = np.concatenate((y_correct, y_wrong))\n",
        "y_processed = to_categorical(y_processed)\n",
        "print(x_processed.shape)\n",
        "print(y_processed.shape)"
      ],
      "execution_count": 8,
      "outputs": [
        {
          "output_type": "stream",
          "text": [
            "(181, 15, 75)\n",
            "(181, 2)\n"
          ],
          "name": "stdout"
        }
      ]
    },
    {
      "cell_type": "markdown",
      "metadata": {
        "id": "7gveOynHwpAr",
        "colab_type": "text"
      },
      "source": [
        "## Finally, split them into training and testing datasets"
      ]
    },
    {
      "cell_type": "code",
      "metadata": {
        "id": "KoOaqvu1v8Jj",
        "colab_type": "code",
        "outputId": "c1b94766-ea25-4d2b-c76a-59d415f22aa3",
        "colab": {
          "base_uri": "https://localhost:8080/",
          "height": 35
        }
      },
      "source": [
        "x_train, x_test, y_train, y_test = train_test_split(x_processed, y_processed, test_size=0.2)\n",
        "print(\"Number of training Frame Sets {} and number of testing Frame sets {}\".format(len(x_train), len(x_test)))"
      ],
      "execution_count": 9,
      "outputs": [
        {
          "output_type": "stream",
          "text": [
            "Number of training Frame Sets 144 and number of testing Frame sets 37\n"
          ],
          "name": "stdout"
        }
      ]
    },
    {
      "cell_type": "markdown",
      "metadata": {
        "id": "PKpqu9xqyUuZ",
        "colab_type": "text"
      },
      "source": [
        "## Loading of Model"
      ]
    },
    {
      "cell_type": "code",
      "metadata": {
        "id": "rAxT0lF6xRoU",
        "colab_type": "code",
        "outputId": "c734e132-4453-4e47-fb08-be1231252774",
        "colab": {
          "base_uri": "https://localhost:8080/",
          "height": 679
        }
      },
      "source": [
        "# load json and create model\n",
        "json_file = open(current_model_path + 'model.json', 'r')\n",
        "loaded_model_json = json_file.read()\n",
        "json_file.close()\n",
        "model = model_from_json(loaded_model_json)\n",
        "model.compile(optimizer=keras.optimizers.RMSprop(learning_rate=learning_rate),loss='categorical_crossentropy',\n",
        "              metrics=[keras.metrics.categorical_crossentropy])\n",
        "model.summary()\n",
        "plot_model(model, to_file='model_plot.png', show_shapes=True, show_layer_names=True)"
      ],
      "execution_count": 10,
      "outputs": [
        {
          "output_type": "stream",
          "text": [
            "Model: \"sequential_2\"\n",
            "_________________________________________________________________\n",
            "Layer (type)                 Output Shape              Param #   \n",
            "=================================================================\n",
            "lstm_2 (LSTM)                (None, 15)                5460      \n",
            "_________________________________________________________________\n",
            "dropout_2 (Dropout)          (None, 15)                0         \n",
            "_________________________________________________________________\n",
            "dense_2 (Dense)              (None, 2)                 32        \n",
            "=================================================================\n",
            "Total params: 5,492\n",
            "Trainable params: 5,492\n",
            "Non-trainable params: 0\n",
            "_________________________________________________________________\n"
          ],
          "name": "stdout"
        },
        {
          "output_type": "execute_result",
          "data": {
            "image/png": "[encoded data removed]",
            "text/plain": [
              "<IPython.core.display.Image object>"
            ]
          },
          "metadata": {
            "tags": []
          },
          "execution_count": 10
        }
      ]
    },
    {
      "cell_type": "code",
      "metadata": {
        "id": "-X2oB944ymZg",
        "colab_type": "code",
        "outputId": "624c3104-16c9-4735-f2c8-fcf78a84b50e",
        "colab": {
          "base_uri": "https://localhost:8080/",
          "height": 439
        }
      },
      "source": [
        "print(\"\\n# Training\")\n",
        "model.fit(x_train, y_train, epochs=10, batch_size=15, verbose=1)\n"
      ],
      "execution_count": 11,
      "outputs": [
        {
          "output_type": "stream",
          "text": [
            "\n",
            "# Training\n",
            "Epoch 1/10\n",
            "144/144 [==============================] - 0s 3ms/step - loss: 0.5203 - categorical_crossentropy: 0.5203\n",
            "Epoch 2/10\n",
            "144/144 [==============================] - 0s 555us/step - loss: 0.4243 - categorical_crossentropy: 0.4243\n",
            "Epoch 3/10\n",
            "144/144 [==============================] - 0s 517us/step - loss: 0.3774 - categorical_crossentropy: 0.3774\n",
            "Epoch 4/10\n",
            "144/144 [==============================] - 0s 524us/step - loss: 0.2980 - categorical_crossentropy: 0.2980\n",
            "Epoch 5/10\n",
            "144/144 [==============================] - 0s 573us/step - loss: 0.3017 - categorical_crossentropy: 0.3017\n",
            "Epoch 6/10\n",
            "144/144 [==============================] - 0s 505us/step - loss: 0.2539 - categorical_crossentropy: 0.2539\n",
            "Epoch 7/10\n",
            "144/144 [==============================] - 0s 509us/step - loss: 0.2650 - categorical_crossentropy: 0.2650\n",
            "Epoch 8/10\n",
            "144/144 [==============================] - 0s 532us/step - loss: 0.1952 - categorical_crossentropy: 0.1952\n",
            "Epoch 9/10\n",
            "144/144 [==============================] - 0s 586us/step - loss: 0.2920 - categorical_crossentropy: 0.2920\n",
            "Epoch 10/10\n",
            "144/144 [==============================] - 0s 505us/step - loss: 0.2264 - categorical_crossentropy: 0.2264\n"
          ],
          "name": "stdout"
        },
        {
          "output_type": "execute_result",
          "data": {
            "text/plain": [
              "<keras.callbacks.callbacks.History at 0x7f9f6da87550>"
            ]
          },
          "metadata": {
            "tags": []
          },
          "execution_count": 11
        }
      ]
    },
    {
      "cell_type": "code",
      "metadata": {
        "id": "TrHjSpWeXx-c",
        "colab_type": "code",
        "outputId": "be9000a2-2aef-4dd9-a997-90a8f44772d0",
        "colab": {
          "base_uri": "https://localhost:8080/",
          "height": 109
        }
      },
      "source": [
        "print('\\n# Evaluate')\n",
        "result = model.evaluate(x_test, y_test, batch_size=1, verbose=1)\n",
        "print(result)\n",
        "dict(zip(model.metrics_names, result))"
      ],
      "execution_count": 12,
      "outputs": [
        {
          "output_type": "stream",
          "text": [
            "\n",
            "# Evaluate\n",
            "37/37 [==============================] - 0s 3ms/step\n",
            "[0.15576903310579224, 0.15576902031898499]\n"
          ],
          "name": "stdout"
        },
        {
          "output_type": "execute_result",
          "data": {
            "text/plain": [
              "{'categorical_crossentropy': 0.15576902031898499, 'loss': 0.15576903310579224}"
            ]
          },
          "metadata": {
            "tags": []
          },
          "execution_count": 12
        }
      ]
    },
    {
      "cell_type": "code",
      "metadata": {
        "id": "LRLjm6iHwX-h",
        "colab_type": "code",
        "colab": {
          "base_uri": "https://localhost:8080/",
          "height": 697
        },
        "outputId": "ee7abf65-20a0-4a28-b02e-da07fada0fcc"
      },
      "source": [
        "predict = model.predict(x_test)\n",
        "for (index, p) in enumerate(predict):\n",
        "  p_category = None\n",
        "  if p[0] >= p[1]:\n",
        "    p_category = 0\n",
        "  else:\n",
        "    p_category = 1\n",
        "  e_category = None\n",
        "  if y_test[index][0] >= y_test[index][1]:\n",
        "    e_category = 0\n",
        "  else:\n",
        "    e_category = 1\n",
        "  print(\"Predicted {} and expected {}\".format(p_category, e_category))"
      ],
      "execution_count": 13,
      "outputs": [
        {
          "output_type": "stream",
          "text": [
            "Predicted 1 and expected 1\n",
            "Predicted 0 and expected 0\n",
            "Predicted 0 and expected 0\n",
            "Predicted 0 and expected 0\n",
            "Predicted 0 and expected 0\n",
            "Predicted 0 and expected 0\n",
            "Predicted 1 and expected 1\n",
            "Predicted 0 and expected 0\n",
            "Predicted 0 and expected 0\n",
            "Predicted 0 and expected 0\n",
            "Predicted 0 and expected 0\n",
            "Predicted 0 and expected 0\n",
            "Predicted 0 and expected 0\n",
            "Predicted 0 and expected 0\n",
            "Predicted 0 and expected 0\n",
            "Predicted 1 and expected 1\n",
            "Predicted 0 and expected 0\n",
            "Predicted 1 and expected 1\n",
            "Predicted 0 and expected 0\n",
            "Predicted 0 and expected 0\n",
            "Predicted 0 and expected 0\n",
            "Predicted 0 and expected 0\n",
            "Predicted 0 and expected 0\n",
            "Predicted 0 and expected 0\n",
            "Predicted 0 and expected 0\n",
            "Predicted 0 and expected 0\n",
            "Predicted 0 and expected 0\n",
            "Predicted 1 and expected 0\n",
            "Predicted 1 and expected 1\n",
            "Predicted 1 and expected 1\n",
            "Predicted 0 and expected 0\n",
            "Predicted 1 and expected 1\n",
            "Predicted 1 and expected 1\n",
            "Predicted 0 and expected 0\n",
            "Predicted 0 and expected 0\n",
            "Predicted 0 and expected 0\n",
            "Predicted 0 and expected 0\n"
          ],
          "name": "stdout"
        }
      ]
    },
    {
      "cell_type": "markdown",
      "metadata": {
        "id": "I_EYRWZ0st-h",
        "colab_type": "text"
      },
      "source": [
        "## Finished"
      ]
    }
  ]
}