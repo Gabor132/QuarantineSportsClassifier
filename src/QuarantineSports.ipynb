{
 "nbformat": 4,
 "nbformat_minor": 0,
 "metadata": {
  "kernelspec": {
   "display_name": "Python 3",
   "language": "python",
   "name": "python3"
  },
  "language_info": {
   "codemirror_mode": {
    "name": "ipython",
    "version": 2
   },
   "file_extension": ".py",
   "mimetype": "text/x-python",
   "name": "python",
   "nbconvert_exporter": "python",
   "pygments_lexer": "ipython2",
   "version": "2.7.6"
  },
  "colab": {
   "name": "QuarantineSports.ipynb",
   "provenance": [],
   "include_colab_link": true
  }
 },
 "cells": [
  {
   "cell_type": "markdown",
   "metadata": {
    "id": "view-in-github",
    "colab_type": "text"
   },
   "source": [
    "<a href=\"https://colab.research.google.com/github/Gabor132/QuarantineSportsClassifier/blob/master/src/QuarantineSports.ipynb\" target=\"_parent\"><img src=\"https://colab.research.google.com/assets/colab-badge.svg\" alt=\"Open In Colab\"/></a>"
   ]
  },
  {
   "cell_type": "markdown",
   "metadata": {
    "id": "vayM6pl1hDcd",
    "colab_type": "text",
    "pycharm": {
     "name": "#%% md\n"
    }
   },
   "source": [
    "# Quarantine Sports Classifier "
   ]
  },
  {
   "cell_type": "markdown",
   "metadata": {
    "id": "b094aVxOhJnf",
    "colab_type": "text",
    "pycharm": {
     "name": "#%% md\n"
    }
   },
   "source": [
    "## Imports"
   ]
  },
  {
   "cell_type": "code",
   "metadata": {
    "colab_type": "code",
    "id": "Ar4UBA-mhFyJ",
    "colab": {}
   },
   "source": [
    "import keras\n",
    "import numpy as np\n",
    "import pandas as pd\n",
    "import matplotlib.pyplot as plt\n"
   ],
   "execution_count": 0,
   "outputs": []
  },
  {
   "cell_type": "markdown",
   "metadata": {
    "id": "w4Naobi1hABh",
    "colab_type": "text",
    "pycharm": {
     "name": "#%% md\n"
    }
   },
   "source": [
    "# Load Dataset and create X and Y"
   ]
  },
  {
   "cell_type": "code",
   "metadata": {
    "id": "agJssUaRasLn",
    "colab_type": "code",
    "colab": {}
   },
   "source": [
    "df = pd.read_json(\"/content/drive/My Drive/QuarantineSportsDatasets/Dataset/OpenPoseDataset/video1.json\")"
   ],
   "execution_count": 0,
   "outputs": []
  },
  {
   "cell_type": "markdown",
   "metadata": {
    "id": "fkxF8CUVhZ2F",
    "colab_type": "text",
    "pycharm": {
     "name": "#%% md\n"
    }
   },
   "source": [
    "## Important to know\n",
    "\n",
    "1.   Out of open pose we extract for all frames all the 25 keypoints (each keypoint contains the X, Y and score)\n",
    "2.   The Category exists per frame and is 0/1 as in Wrong/Correct as in Not a Push-Up Frame/Is a Push Up Frame\n"
   ]
  },
  {
   "cell_type": "code",
   "metadata": {
    "id": "9G5c_rBlawl4",
    "colab_type": "code",
    "colab": {}
   },
   "source": [
    "\n",
    "keypoints = df['Keypoints'].values\n",
    "y_total = df['Category'].values\n",
    "\n",
    "\n",
    "xList = []\n",
    "for k in keypoints:\n",
    "    if k != None:\n",
    "        newK = np.reshape(np.asarray(k), (25,3))\n",
    "        xList.append(newK)\n",
    "    else:\n",
    "        xList.append(np.reshape(np.zeros(75), (25,3)))\n",
    "x_total = np.array(xList)"
   ],
   "execution_count": 0,
   "outputs": []
  }
 ]
}