{
  "nbformat": 4,
  "nbformat_minor": 0,
  "metadata": {
    "kernelspec": {
      "display_name": "Python 3",
      "language": "python",
      "name": "python3"
    },
    "language_info": {
      "codemirror_mode": {
        "name": "ipython",
        "version": 2
      },
      "file_extension": ".py",
      "mimetype": "text/x-python",
      "name": "python",
      "nbconvert_exporter": "python",
      "pygments_lexer": "ipython2",
      "version": "2.7.6"
    },
    "colab": {
      "name": "QuarantineSports.ipynb",
      "provenance": [],
      "toc_visible": true,
      "include_colab_link": true
    }
  },
  "cells": [
    {
      "cell_type": "markdown",
      "metadata": {
        "id": "view-in-github",
        "colab_type": "text"
      },
      "source": [
        "<a href=\"https://colab.research.google.com/github/Gabor132/QuarantineSportsClassifier/blob/master/src/QuarantineSports.ipynb\" target=\"_parent\"><img src=\"https://colab.research.google.com/assets/colab-badge.svg\" alt=\"Open In Colab\"/></a>"
      ]
    },
    {
      "cell_type": "markdown",
      "metadata": {
        "id": "vayM6pl1hDcd",
        "colab_type": "text",
        "pycharm": {
          "name": "#%% md\n"
        }
      },
      "source": [
        "# Quarantine Sports Classifier "
      ]
    },
    {
      "cell_type": "markdown",
      "metadata": {
        "id": "b094aVxOhJnf",
        "colab_type": "text",
        "pycharm": {
          "name": "#%% md\n"
        }
      },
      "source": [
        "## Imports"
      ]
    },
    {
      "cell_type": "code",
      "metadata": {
        "colab_type": "code",
        "id": "Ar4UBA-mhFyJ",
        "colab": {}
      },
      "source": [
        "import keras\n",
        "import numpy as np\n",
        "import pandas as pd\n",
        "import matplotlib.pyplot as plt\n",
        "from sklearn.model_selection import train_test_split\n",
        "from keras.utils.vis_utils import plot_model\n",
        "from keras.utils import to_categorical\n"
      ],
      "execution_count": 0,
      "outputs": []
    },
    {
      "cell_type": "markdown",
      "metadata": {
        "id": "mH9guuXpw09P",
        "colab_type": "text"
      },
      "source": [
        "## Constants"
      ]
    },
    {
      "cell_type": "code",
      "metadata": {
        "id": "WcY0e3PTw2jb",
        "colab_type": "code",
        "colab": {}
      },
      "source": [
        "learning_rate = 0.01\n",
        "testing_data_percentage = 0.2\n",
        "nr_of_frames_per_sequence = 15\n",
        "nr_of_keypoints = 25\n",
        "nr_of_values_per_keypoint = 3\n",
        "\n",
        "all_files_names = [\"video1.json\", \"video2.json\", \"video3.json\"]\n",
        "\n",
        "# Dataset paths\n",
        "DRAGOS_COLAB_DATASET_PATH = \"/content/drive/My Drive/QuarantineSportsDatasets/Dataset/OpenPoseDataset/\"\n",
        "LOCAL_DATASET_PATH = \"../datasets/\"\n"
      ],
      "execution_count": 0,
      "outputs": []
    },
    {
      "cell_type": "code",
      "metadata": {
        "id": "-u1vWejYa1Ob",
        "colab_type": "code",
        "colab": {}
      },
      "source": [
        "current_path = DRAGOS_COLAB_DATASET_PATH"
      ],
      "execution_count": 0,
      "outputs": []
    },
    {
      "cell_type": "code",
      "metadata": {
        "id": "6cENXg0S81Lf",
        "colab_type": "code",
        "colab": {
          "base_uri": "https://localhost:8080/",
          "height": 55
        },
        "outputId": "d87dd82a-ee81-49bc-c9f6-59a445f56cd6"
      },
      "source": [
        "dataset_paths = []\n",
        "for path in all_files_names:\n",
        "  dataset_path = current_path + path\n",
        "  dataset_paths.append(dataset_path)\n",
        "\n",
        "print(\"All files found: {}\".format(dataset_paths))"
      ],
      "execution_count": 90,
      "outputs": [
        {
          "output_type": "stream",
          "text": [
            "All files found: ['/content/drive/My Drive/QuarantineSportsDatasets/Dataset/OpenPoseDataset/video1.json', '/content/drive/My Drive/QuarantineSportsDatasets/Dataset/OpenPoseDataset/video2.json', '/content/drive/My Drive/QuarantineSportsDatasets/Dataset/OpenPoseDataset/video3.json']\n"
          ],
          "name": "stdout"
        }
      ]
    },
    {
      "cell_type": "markdown",
      "metadata": {
        "id": "w4Naobi1hABh",
        "colab_type": "text",
        "pycharm": {
          "name": "#%% md\n"
        }
      },
      "source": [
        "## Load Datasets and create X and Y\n",
        "\n",
        "## Important to know\n",
        "\n",
        "1.   Out of open pose we extract for all frames all the 25 keypoints (each keypoint contains the X, Y and score)\n",
        "2.   The Category exists per frame and is 0/1 as in Wrong/Correct as in Not a Push-Up Frame/Is a Push Up Frame\n"
      ]
    },
    {
      "cell_type": "code",
      "metadata": {
        "id": "agJssUaRasLn",
        "colab_type": "code",
        "colab": {
          "base_uri": "https://localhost:8080/",
          "height": 164
        },
        "outputId": "157a557c-c1f0-44df-d0ad-0816e37d06fc"
      },
      "source": [
        "y_total = None\n",
        "x_total = None\n",
        "for (index, path) in enumerate(dataset_paths):\n",
        "  print(\"For file at {}\".format(path))\n",
        "  df = pd.read_json(path)\n",
        "  keypoints = df['Keypoints'].values\n",
        "  file_y = df['Category'].values\n",
        "  file_x = []\n",
        "  for k in keypoints:\n",
        "      if k != None:\n",
        "          newK = np.reshape(np.asarray(k), (25,3))\n",
        "          file_x.append(newK)\n",
        "      else:\n",
        "          file_x.append(np.reshape(np.zeros(75), (25,3)))\n",
        "  file_x = np.array(file_x)\n",
        "  print(\"X: {} and Y: {}\".format(file_x.shape, file_y.shape))\n",
        "  if np.all(x_total == None):\n",
        "    x_total = file_x\n",
        "  else:\n",
        "    x_total = np.vstack((x_total, file_x))\n",
        "  if np.all(y_total == None):\n",
        "    y_total = file_y\n",
        "  else:\n",
        "    y_total = np.hstack((y_total, file_y))\n",
        "print(\"Total X: {}\".format(x_total.shape))\n",
        "print(\"Total Y: {}\".format(y_total.shape))"
      ],
      "execution_count": 91,
      "outputs": [
        {
          "output_type": "stream",
          "text": [
            "For file at /content/drive/My Drive/QuarantineSportsDatasets/Dataset/OpenPoseDataset/video1.json\n",
            "X: (270, 25, 3) and Y: (270,)\n",
            "For file at /content/drive/My Drive/QuarantineSportsDatasets/Dataset/OpenPoseDataset/video2.json\n",
            "X: (2317, 25, 3) and Y: (2317,)\n",
            "For file at /content/drive/My Drive/QuarantineSportsDatasets/Dataset/OpenPoseDataset/video3.json\n",
            "X: (140, 25, 3) and Y: (140,)\n",
            "Total X: (2727, 25, 3)\n",
            "Total Y: (2727,)\n"
          ],
          "name": "stdout"
        }
      ]
    },
    {
      "cell_type": "markdown",
      "metadata": {
        "id": "TcT9VZ-QoK9Q",
        "colab_type": "text"
      },
      "source": [
        "## Splitting the dataset into categories (wrong and correct)"
      ]
    },
    {
      "cell_type": "code",
      "metadata": {
        "id": "WryRhwOooJvm",
        "colab_type": "code",
        "colab": {}
      },
      "source": [
        "# Get Indexes\n",
        "y_wrong_index = np.where(y_total == 0)\n",
        "y_correct_index = np.where(y_total == 1)\n",
        "# Get Values\n",
        "x_wrong = x_total[y_wrong_index]\n",
        "y_wrong = y_total[y_wrong_index]\n",
        "x_correct = x_total[y_correct_index]\n",
        "y_correct = y_total[y_correct_index]\n"
      ],
      "execution_count": 0,
      "outputs": []
    },
    {
      "cell_type": "markdown",
      "metadata": {
        "id": "9oq8rBRLoKZc",
        "colab_type": "text"
      },
      "source": [
        "## Further splitting the frames into sequences"
      ]
    },
    {
      "cell_type": "code",
      "metadata": {
        "id": "SbPD8W4EqTxq",
        "colab_type": "code",
        "outputId": "21795b34-d7a3-49c2-abbf-05252586a9e2",
        "colab": {
          "base_uri": "https://localhost:8080/",
          "height": 274
        }
      },
      "source": [
        "print(\"Initial shapes\")\n",
        "print(\"y_wrong: {}\".format(y_wrong.shape))\n",
        "print(\"y_correct: {}\".format(y_correct.shape))\n",
        "print(\"x_wrong: {}\".format(x_wrong.shape))\n",
        "print(\"x_correct: {}\".format(x_correct.shape))\n",
        "\n",
        "class FrameSet:\n",
        "\n",
        "  def __init__(self, x, y):\n",
        "    self.x = x\n",
        "    self.y = y\n",
        "\n",
        "def get_maximum_number_of_usable_frames(a):\n",
        "  divider = nr_of_frames_per_sequence\n",
        "  i = 1\n",
        "  while (divider * i) < len(a):\n",
        "    i = i + 1\n",
        "  return divider * (i-1)\n",
        "\n",
        "def transform_y_into_frame_sets(a):\n",
        "  number_of_sets = get_maximum_number_of_usable_frames(a)\n",
        "  print(\"Number of sets: {}\".format(number_of_sets))\n",
        "  new_y = None\n",
        "  if np.any(a == 0):\n",
        "    new_y = np.zeros((int) (number_of_sets / nr_of_frames_per_sequence))\n",
        "  else:\n",
        "    new_y = np.ones((int) (number_of_sets / nr_of_frames_per_sequence))\n",
        "  return new_y\n",
        "\n",
        "def transform_x_into_frame_sets(a):\n",
        "  number_of_sets = get_maximum_number_of_usable_frames(a)\n",
        "  print(\"Number of sets: {}\".format(number_of_sets))\n",
        "  sub_group_size = a[0:number_of_sets]\n",
        "  return np.reshape(sub_group_size, ((int) (number_of_sets / nr_of_frames_per_sequence), nr_of_frames_per_sequence, nr_of_keypoints * nr_of_values_per_keypoint))\n",
        "\n",
        "y_wrong = transform_y_into_frame_sets(y_wrong)\n",
        "y_correct = transform_y_into_frame_sets(y_correct)\n",
        "x_wrong = transform_x_into_frame_sets(x_wrong)\n",
        "x_correct = transform_x_into_frame_sets(x_correct)\n",
        "print(\"After reshaping\")\n",
        "print(\"y_wrong: {}\".format(y_wrong.shape))\n",
        "print(\"y_correct: {}\".format(y_correct.shape))\n",
        "print(\"x_wrong: {}\".format(x_wrong.shape))\n",
        "print(\"x_correct: {}\".format(x_correct.shape))"
      ],
      "execution_count": 93,
      "outputs": [
        {
          "output_type": "stream",
          "text": [
            "Initial shapes\n",
            "y_wrong: (2057,)\n",
            "y_correct: (670,)\n",
            "x_wrong: (2057, 25, 3)\n",
            "x_correct: (670, 25, 3)\n",
            "Number of sets: 2055\n",
            "Number of sets: 660\n",
            "Number of sets: 2055\n",
            "Number of sets: 660\n",
            "After reshaping\n",
            "y_wrong: (137,)\n",
            "y_correct: (44,)\n",
            "x_wrong: (137, 15, 75)\n",
            "x_correct: (44, 15, 75)\n"
          ],
          "name": "stdout"
        }
      ]
    },
    {
      "cell_type": "markdown",
      "metadata": {
        "id": "gUOVmJhMvn3s",
        "colab_type": "text"
      },
      "source": [
        "## Recompine all wrong and correct arrays"
      ]
    },
    {
      "cell_type": "code",
      "metadata": {
        "id": "2NfEBzGJvl5U",
        "colab_type": "code",
        "outputId": "7732b1cb-9daf-4a36-dab8-764a52f9cd40",
        "colab": {
          "base_uri": "https://localhost:8080/",
          "height": 54
        }
      },
      "source": [
        "# Only stack them when they are not empty\n",
        "x_processed = None\n",
        "y_processed = None\n",
        "x_processed = np.concatenate((x_correct, x_wrong))\n",
        "y_processed = np.concatenate((y_correct, y_wrong))\n",
        "y_processed = to_categorical(y_processed)\n",
        "print(x_processed.shape)\n",
        "print(y_processed.shape)"
      ],
      "execution_count": 117,
      "outputs": [
        {
          "output_type": "stream",
          "text": [
            "(181, 15, 75)\n",
            "(181, 2)\n"
          ],
          "name": "stdout"
        }
      ]
    },
    {
      "cell_type": "markdown",
      "metadata": {
        "id": "7gveOynHwpAr",
        "colab_type": "text"
      },
      "source": [
        "## Finally, split them into training and testing datasets"
      ]
    },
    {
      "cell_type": "code",
      "metadata": {
        "id": "KoOaqvu1v8Jj",
        "colab_type": "code",
        "outputId": "305447a0-fae9-4098-9863-8a5599a46098",
        "colab": {
          "base_uri": "https://localhost:8080/",
          "height": 35
        }
      },
      "source": [
        "x_train, x_test, y_train, y_test = train_test_split(x_processed, y_processed, test_size=0.2)\n",
        "print(\"Number of training Frame Sets {} and number of testing Frame sets {}\".format(len(x_train), len(x_test)))"
      ],
      "execution_count": 118,
      "outputs": [
        {
          "output_type": "stream",
          "text": [
            "Number of training Frame Sets 144 and number of testing Frame sets 37\n"
          ],
          "name": "stdout"
        }
      ]
    },
    {
      "cell_type": "markdown",
      "metadata": {
        "id": "PKpqu9xqyUuZ",
        "colab_type": "text"
      },
      "source": [
        "## Defining the Model"
      ]
    },
    {
      "cell_type": "code",
      "metadata": {
        "id": "rAxT0lF6xRoU",
        "colab_type": "code",
        "outputId": "ee556470-d938-43d9-8884-3d4a3e65e338",
        "colab": {
          "base_uri": "https://localhost:8080/",
          "height": 698
        }
      },
      "source": [
        "print(x_train.shape)\n",
        "model = keras.Sequential()\n",
        "model.add(keras.layers.LSTM(15, input_shape=(15, 75), activation='softmax'))\n",
        "model.add(keras.layers.Dropout(0.2, input_shape=(15,)))\n",
        "#model.add(keras.layers.Conv1D(3, 3, activation='softmax'))\n",
        "model.add(keras.layers.Dense(2, activation='softmax'))\n",
        "model.build(input_shape=(1, 75))\n",
        "model.compile(optimizer=keras.optimizers.RMSprop(learning_rate=learning_rate),loss='categorical_crossentropy',\n",
        "              metrics=[keras.metrics.categorical_crossentropy])\n",
        "model.summary()\n",
        "plot_model(model, to_file='model_plot.png', show_shapes=True, show_layer_names=True)"
      ],
      "execution_count": 119,
      "outputs": [
        {
          "output_type": "stream",
          "text": [
            "(144, 15, 75)\n",
            "Model: \"sequential_11\"\n",
            "_________________________________________________________________\n",
            "Layer (type)                 Output Shape              Param #   \n",
            "=================================================================\n",
            "lstm_11 (LSTM)               (None, 15)                5460      \n",
            "_________________________________________________________________\n",
            "dropout_11 (Dropout)         (None, 15)                0         \n",
            "_________________________________________________________________\n",
            "dense_11 (Dense)             (None, 2)                 32        \n",
            "=================================================================\n",
            "Total params: 5,492\n",
            "Trainable params: 5,492\n",
            "Non-trainable params: 0\n",
            "_________________________________________________________________\n"
          ],
          "name": "stdout"
        },
        {
          "output_type": "execute_result",
          "data": {
            "image/png": "[encoded data removed]",
            "text/plain": [
              "<IPython.core.display.Image object>"
            ]
          },
          "metadata": {
            "tags": []
          },
          "execution_count": 119
        }
      ]
    },
    {
      "cell_type": "code",
      "metadata": {
        "id": "-X2oB944ymZg",
        "colab_type": "code",
        "outputId": "9566f573-b708-4dc7-a018-14eb5f16b232",
        "colab": {
          "base_uri": "https://localhost:8080/",
          "height": 1000
        }
      },
      "source": [
        "print(\"\\n# Training\")\n",
        "model.fit(x_train, y_train, epochs=30, batch_size=15, verbose=1)\n"
      ],
      "execution_count": 120,
      "outputs": [
        {
          "output_type": "stream",
          "text": [
            "\n",
            "# Training\n",
            "Epoch 1/30\n",
            "144/144 [==============================] - 0s 3ms/step - loss: 0.5806 - categorical_crossentropy: 0.5806\n",
            "Epoch 2/30\n",
            "144/144 [==============================] - 0s 680us/step - loss: 0.4320 - categorical_crossentropy: 0.4320\n",
            "Epoch 3/30\n",
            "144/144 [==============================] - 0s 665us/step - loss: 0.3609 - categorical_crossentropy: 0.3609\n",
            "Epoch 4/30\n",
            "144/144 [==============================] - 0s 708us/step - loss: 0.3576 - categorical_crossentropy: 0.3576\n",
            "Epoch 5/30\n",
            "144/144 [==============================] - 0s 604us/step - loss: 0.2862 - categorical_crossentropy: 0.2862\n",
            "Epoch 6/30\n",
            "144/144 [==============================] - 0s 660us/step - loss: 0.2809 - categorical_crossentropy: 0.2809\n",
            "Epoch 7/30\n",
            "144/144 [==============================] - 0s 548us/step - loss: 0.2543 - categorical_crossentropy: 0.2543\n",
            "Epoch 8/30\n",
            "144/144 [==============================] - 0s 562us/step - loss: 0.2278 - categorical_crossentropy: 0.2278\n",
            "Epoch 9/30\n",
            "144/144 [==============================] - 0s 516us/step - loss: 0.2153 - categorical_crossentropy: 0.2153\n",
            "Epoch 10/30\n",
            "144/144 [==============================] - 0s 552us/step - loss: 0.2080 - categorical_crossentropy: 0.2080\n",
            "Epoch 11/30\n",
            "144/144 [==============================] - 0s 586us/step - loss: 0.2172 - categorical_crossentropy: 0.2172\n",
            "Epoch 12/30\n",
            "144/144 [==============================] - 0s 533us/step - loss: 0.1737 - categorical_crossentropy: 0.1737\n",
            "Epoch 13/30\n",
            "144/144 [==============================] - 0s 533us/step - loss: 0.1638 - categorical_crossentropy: 0.1638\n",
            "Epoch 14/30\n",
            "144/144 [==============================] - 0s 515us/step - loss: 0.1842 - categorical_crossentropy: 0.1842\n",
            "Epoch 15/30\n",
            "144/144 [==============================] - 0s 495us/step - loss: 0.1244 - categorical_crossentropy: 0.1244\n",
            "Epoch 16/30\n",
            "144/144 [==============================] - 0s 565us/step - loss: 0.1809 - categorical_crossentropy: 0.1809\n",
            "Epoch 17/30\n",
            "144/144 [==============================] - 0s 500us/step - loss: 0.1643 - categorical_crossentropy: 0.1643\n",
            "Epoch 18/30\n",
            "144/144 [==============================] - 0s 509us/step - loss: 0.1987 - categorical_crossentropy: 0.1987\n",
            "Epoch 19/30\n",
            "144/144 [==============================] - 0s 619us/step - loss: 0.1189 - categorical_crossentropy: 0.1189\n",
            "Epoch 20/30\n",
            "144/144 [==============================] - 0s 570us/step - loss: 0.1119 - categorical_crossentropy: 0.1119\n",
            "Epoch 21/30\n",
            "144/144 [==============================] - 0s 533us/step - loss: 0.1182 - categorical_crossentropy: 0.1182\n",
            "Epoch 22/30\n",
            "144/144 [==============================] - 0s 571us/step - loss: 0.1147 - categorical_crossentropy: 0.1147\n",
            "Epoch 23/30\n",
            "144/144 [==============================] - 0s 519us/step - loss: 0.1189 - categorical_crossentropy: 0.1189\n",
            "Epoch 24/30\n",
            "144/144 [==============================] - 0s 513us/step - loss: 0.1012 - categorical_crossentropy: 0.1012\n",
            "Epoch 25/30\n",
            "144/144 [==============================] - 0s 531us/step - loss: 0.1294 - categorical_crossentropy: 0.1294\n",
            "Epoch 26/30\n",
            "144/144 [==============================] - 0s 586us/step - loss: 0.1097 - categorical_crossentropy: 0.1097\n",
            "Epoch 27/30\n",
            "144/144 [==============================] - 0s 596us/step - loss: 0.0781 - categorical_crossentropy: 0.0781\n",
            "Epoch 28/30\n",
            "144/144 [==============================] - 0s 601us/step - loss: 0.0948 - categorical_crossentropy: 0.0948\n",
            "Epoch 29/30\n",
            "144/144 [==============================] - 0s 534us/step - loss: 0.0793 - categorical_crossentropy: 0.0793\n",
            "Epoch 30/30\n",
            "144/144 [==============================] - 0s 572us/step - loss: 0.0667 - categorical_crossentropy: 0.0667\n"
          ],
          "name": "stdout"
        },
        {
          "output_type": "execute_result",
          "data": {
            "text/plain": [
              "<keras.callbacks.callbacks.History at 0x7f0a68471fd0>"
            ]
          },
          "metadata": {
            "tags": []
          },
          "execution_count": 120
        }
      ]
    },
    {
      "cell_type": "code",
      "metadata": {
        "id": "TrHjSpWeXx-c",
        "colab_type": "code",
        "colab": {
          "base_uri": "https://localhost:8080/",
          "height": 109
        },
        "outputId": "0037ab41-0f27-46fe-a0a9-ff246d0ac684"
      },
      "source": [
        "print('\\n# Evaluate')\n",
        "result = model.evaluate(x_test, y_test, batch_size=1, verbose=1)\n",
        "print(result)\n",
        "dict(zip(model.metrics_names, result))"
      ],
      "execution_count": 121,
      "outputs": [
        {
          "output_type": "stream",
          "text": [
            "\n",
            "# Evaluate\n",
            "37/37 [==============================] - 0s 4ms/step\n",
            "[0.14128345817428184, 0.14128343760967255]\n"
          ],
          "name": "stdout"
        },
        {
          "output_type": "execute_result",
          "data": {
            "text/plain": [
              "{'categorical_crossentropy': 0.14128343760967255, 'loss': 0.14128345817428184}"
            ]
          },
          "metadata": {
            "tags": []
          },
          "execution_count": 121
        }
      ]
    },
    {
      "cell_type": "code",
      "metadata": {
        "id": "s_xj1aCJX_Vw",
        "colab_type": "code",
        "colab": {}
      },
      "source": [
        ""
      ],
      "execution_count": 0,
      "outputs": []
    }
  ]
}