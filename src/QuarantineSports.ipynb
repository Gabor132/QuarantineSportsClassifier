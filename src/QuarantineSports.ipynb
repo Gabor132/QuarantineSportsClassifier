{
  "nbformat": 4,
  "nbformat_minor": 0,
  "metadata": {
    "kernelspec": {
      "display_name": "Python 3",
      "language": "python",
      "name": "python3"
    },
    "language_info": {
      "codemirror_mode": {
        "name": "ipython",
        "version": 2
      },
      "file_extension": ".py",
      "mimetype": "text/x-python",
      "name": "python",
      "nbconvert_exporter": "python",
      "pygments_lexer": "ipython2",
      "version": "2.7.6"
    },
    "colab": {
      "name": "QuarantineSports.ipynb",
      "provenance": [],
      "include_colab_link": true
    }
  },
  "cells": [
    {
      "cell_type": "markdown",
      "metadata": {
        "id": "view-in-github",
        "colab_type": "text"
      },
      "source": [
        "<a href=\"https://colab.research.google.com/github/Gabor132/QuarantineSportsClassifier/blob/master/src/QuarantineSports.ipynb\" target=\"_parent\"><img src=\"https://colab.research.google.com/assets/colab-badge.svg\" alt=\"Open In Colab\"/></a>"
      ]
    },
    {
      "cell_type": "code",
      "metadata": {
        "id": "P84iy_90aMva",
        "colab_type": "code",
        "colab": {
          "base_uri": "https://localhost:8080/",
          "height": 35
        },
        "outputId": "92234fff-6071-423f-bfc0-a2d8c9717783"
      },
      "source": [
        "import keras\n",
        "import numpy as np\n",
        "import pandas as pd\n",
        "import matplotlib.pyplot as plt\n"
      ],
      "execution_count": 2,
      "outputs": [
        {
          "output_type": "stream",
          "text": [
            "Using TensorFlow backend.\n"
          ],
          "name": "stderr"
        }
      ]
    },
    {
      "cell_type": "code",
      "metadata": {
        "id": "agJssUaRasLn",
        "colab_type": "code",
        "colab": {}
      },
      "source": [
        "df = pd.read_csv(\"/content/drive/My Drive/QuarantineSportsDatasets/Dataset/IowaHousingPrices.csv\")"
      ],
      "execution_count": 0,
      "outputs": []
    },
    {
      "cell_type": "code",
      "metadata": {
        "id": "9G5c_rBlawl4",
        "colab_type": "code",
        "colab": {}
      },
      "source": [
        "squareFeet = df[['SquareFeet']].values\n",
        "salePrice = df[['SalePrice']].values\n"
      ],
      "execution_count": 0,
      "outputs": []
    },
    {
      "cell_type": "code",
      "metadata": {
        "id": "A_owpueEa6SU",
        "colab_type": "code",
        "colab": {
          "base_uri": "https://localhost:8080/",
          "height": 1000
        },
        "outputId": "2be06a90-f14c-43d6-ddfc-d54c6f58b7a1"
      },
      "source": [
        "model = keras.Sequential()\n",
        "model.add(keras.layers.Dense(1, input_shape=(1,)))\n",
        "model.compile(keras.optimizers.Adam(lr=0.1), 'mean_squared_error')\n",
        "\n",
        "model.fit(squareFeet, salePrice, epochs=40, batch_size=10)"
      ],
      "execution_count": 9,
      "outputs": [
        {
          "output_type": "stream",
          "text": [
            "Epoch 1/40\n",
            "1460/1460 [==============================] - 0s 104us/step - loss: 35127657927.8904\n",
            "Epoch 2/40\n",
            "1460/1460 [==============================] - 0s 78us/step - loss: 27989651883.8356\n",
            "Epoch 3/40\n",
            "1460/1460 [==============================] - 0s 77us/step - loss: 22089682512.6575\n",
            "Epoch 4/40\n",
            "1460/1460 [==============================] - 0s 77us/step - loss: 17316780922.7397\n",
            "Epoch 5/40\n",
            "1460/1460 [==============================] - 0s 80us/step - loss: 13537438793.6438\n",
            "Epoch 6/40\n",
            "1460/1460 [==============================] - 0s 81us/step - loss: 10601346961.5342\n",
            "Epoch 7/40\n",
            "1460/1460 [==============================] - 0s 77us/step - loss: 8366295582.6849\n",
            "Epoch 8/40\n",
            "1460/1460 [==============================] - 0s 80us/step - loss: 6699374763.8356\n",
            "Epoch 9/40\n",
            "1460/1460 [==============================] - 0s 77us/step - loss: 5494644886.7945\n",
            "Epoch 10/40\n",
            "1460/1460 [==============================] - 0s 78us/step - loss: 4652113836.7123\n",
            "Epoch 11/40\n",
            "1460/1460 [==============================] - 0s 81us/step - loss: 4086365256.5479\n",
            "Epoch 12/40\n",
            "1460/1460 [==============================] - 0s 79us/step - loss: 3717338531.5068\n",
            "Epoch 13/40\n",
            "1460/1460 [==============================] - 0s 77us/step - loss: 3485613199.5616\n",
            "Epoch 14/40\n",
            "1460/1460 [==============================] - 0s 85us/step - loss: 3346131412.6027\n",
            "Epoch 15/40\n",
            "1460/1460 [==============================] - 0s 77us/step - loss: 3265429648.8767\n",
            "Epoch 16/40\n",
            "1460/1460 [==============================] - 0s 79us/step - loss: 3220528748.2740\n",
            "Epoch 17/40\n",
            "1460/1460 [==============================] - 0s 78us/step - loss: 3198060334.9041\n",
            "Epoch 18/40\n",
            "1460/1460 [==============================] - 0s 79us/step - loss: 3188064522.0822\n",
            "Epoch 19/40\n",
            "1460/1460 [==============================] - 0s 78us/step - loss: 3183286197.9178\n",
            "Epoch 20/40\n",
            "1460/1460 [==============================] - 0s 79us/step - loss: 3181239620.8219\n",
            "Epoch 21/40\n",
            "1460/1460 [==============================] - 0s 79us/step - loss: 3179295549.8082\n",
            "Epoch 22/40\n",
            "1460/1460 [==============================] - 0s 80us/step - loss: 3178932334.0274\n",
            "Epoch 23/40\n",
            "1460/1460 [==============================] - 0s 77us/step - loss: 3179812144.4384\n",
            "Epoch 24/40\n",
            "1460/1460 [==============================] - 0s 78us/step - loss: 3179214339.2877\n",
            "Epoch 25/40\n",
            "1460/1460 [==============================] - 0s 79us/step - loss: 3179428666.9589\n",
            "Epoch 26/40\n",
            "1460/1460 [==============================] - 0s 78us/step - loss: 3180237705.8630\n",
            "Epoch 27/40\n",
            "1460/1460 [==============================] - 0s 80us/step - loss: 3178617003.6164\n",
            "Epoch 28/40\n",
            "1460/1460 [==============================] - 0s 78us/step - loss: 3179941407.5616\n",
            "Epoch 29/40\n",
            "1460/1460 [==============================] - 0s 77us/step - loss: 3180162253.8082\n",
            "Epoch 30/40\n",
            "1460/1460 [==============================] - 0s 77us/step - loss: 3178743559.8904\n",
            "Epoch 31/40\n",
            "1460/1460 [==============================] - 0s 90us/step - loss: 3178656865.6438\n",
            "Epoch 32/40\n",
            "1460/1460 [==============================] - 0s 76us/step - loss: 3178529613.5890\n",
            "Epoch 33/40\n",
            "1460/1460 [==============================] - 0s 79us/step - loss: 3178650009.8630\n",
            "Epoch 34/40\n",
            "1460/1460 [==============================] - 0s 77us/step - loss: 3179189192.9863\n",
            "Epoch 35/40\n",
            "1460/1460 [==============================] - 0s 77us/step - loss: 3179093207.6712\n",
            "Epoch 36/40\n",
            "1460/1460 [==============================] - 0s 76us/step - loss: 3180405716.1644\n",
            "Epoch 37/40\n",
            "1460/1460 [==============================] - 0s 79us/step - loss: 3179527774.0274\n",
            "Epoch 38/40\n",
            "1460/1460 [==============================] - 0s 78us/step - loss: 3179230464.4384\n",
            "Epoch 39/40\n",
            "1460/1460 [==============================] - 0s 83us/step - loss: 3179646488.5479\n",
            "Epoch 40/40\n",
            "1460/1460 [==============================] - 0s 81us/step - loss: 3178250597.0411\n"
          ],
          "name": "stdout"
        },
        {
          "output_type": "execute_result",
          "data": {
            "text/plain": [
              "<keras.callbacks.callbacks.History at 0x7ffb3b834470>"
            ]
          },
          "metadata": {
            "tags": []
          },
          "execution_count": 9
        }
      ]
    },
    {
      "cell_type": "code",
      "metadata": {
        "id": "bL4L8ipKbSKN",
        "colab_type": "code",
        "colab": {
          "base_uri": "https://localhost:8080/",
          "height": 313
        },
        "outputId": "d9258219-8900-4539-fbca-b3531860b54f"
      },
      "source": [
        "df.plot(kind='scatter', x='SquareFeet', y='SalePrice', title='Housing Prices per square feet')\n",
        "y_pred = model.predict(squareFeet)\n",
        "plt.plot(squareFeet, y_pred, color='red')"
      ],
      "execution_count": 10,
      "outputs": [
        {
          "output_type": "execute_result",
          "data": {
            "text/plain": [
              "[<matplotlib.lines.Line2D at 0x7ffb3b846320>]"
            ]
          },
          "metadata": {
            "tags": []
          },
          "execution_count": 10
        },
        {
          "output_type": "display_data",
          "data": {
            "image/png": "[encoded data removed]",
            "text/plain": [
              "<Figure size 432x288 with 1 Axes>"
            ]
          },
          "metadata": {
            "tags": [],
            "needs_background": "light"
          }
        }
      ]
    },
    {
      "cell_type": "code",
      "metadata": {
        "id": "uHcll_41blVa",
        "colab_type": "code",
        "colab": {
          "base_uri": "https://localhost:8080/",
          "height": 35
        },
        "outputId": "0c1106a2-916d-42c3-95ef-9f7f6745135d"
      },
      "source": [
        "newSF = 2000\n",
        "print(model.predict([newSF]))"
      ],
      "execution_count": 11,
      "outputs": [
        {
          "output_type": "stream",
          "text": [
            "[[235929.05]]\n"
          ],
          "name": "stdout"
        }
      ]
    },
    {
      "cell_type": "code",
      "metadata": {
        "id": "Ffy55xepbpii",
        "colab_type": "code",
        "colab": {}
      },
      "source": [
        ""
      ],
      "execution_count": 0,
      "outputs": []
    }
  ]
}