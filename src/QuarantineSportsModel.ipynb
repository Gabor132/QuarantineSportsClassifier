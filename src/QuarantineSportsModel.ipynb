{
  "nbformat": 4,
  "nbformat_minor": 0,
  "metadata": {
    "kernelspec": {
      "display_name": "Python 3",
      "language": "python",
      "name": "python3"
    },
    "language_info": {
      "codemirror_mode": {
        "name": "ipython",
        "version": 2
      },
      "file_extension": ".py",
      "mimetype": "text/x-python",
      "name": "python",
      "nbconvert_exporter": "python",
      "pygments_lexer": "ipython2",
      "version": "2.7.6"
    },
    "colab": {
      "name": "QuarantineSports.ipynb",
      "provenance": [],
      "toc_visible": true,
      "include_colab_link": true
    }
  },
  "cells": [
    {
      "cell_type": "markdown",
      "metadata": {
        "id": "view-in-github",
        "colab_type": "text"
      },
      "source": [
        "<a href=\"https://colab.research.google.com/github/Gabor132/QuarantineSportsClassifier/blob/master/src/QuarantineSportsModel.ipynb\" target=\"_parent\"><img src=\"https://colab.research.google.com/assets/colab-badge.svg\" alt=\"Open In Colab\"/></a>"
      ]
    },
    {
      "cell_type": "markdown",
      "metadata": {
        "id": "vayM6pl1hDcd",
        "colab_type": "text",
        "pycharm": {
          "name": "#%% md\n"
        }
      },
      "source": [
        "# Quarantine Sports Classifier "
      ]
    },
    {
      "cell_type": "code",
      "metadata": {
        "id": "QR4pYUzrTAoe",
        "colab_type": "code",
        "colab": {}
      },
      "source": [
        "#\n",
        "# KERAS2ONNX installation\n",
        "#\n",
        "# !pip install -U git+https://github.com/microsoft/onnxconverter-common\n",
        "# !pip install -U git+https://github.com/onnx/keras-onnx"
      ],
      "execution_count": 0,
      "outputs": []
    },
    {
      "cell_type": "markdown",
      "metadata": {
        "id": "b094aVxOhJnf",
        "colab_type": "text",
        "pycharm": {
          "name": "#%% md\n"
        }
      },
      "source": [
        "## Imports"
      ]
    },
    {
      "cell_type": "code",
      "metadata": {
        "colab_type": "code",
        "id": "Ar4UBA-mhFyJ",
        "colab": {
          "base_uri": "https://localhost:8080/",
          "height": 35
        },
        "outputId": "57018c15-c17f-4075-a8b0-90f3a1aef217"
      },
      "source": [
        "import tensorflow as tf\n",
        "import numpy as np\n",
        "import pandas as pd\n",
        "import matplotlib.pyplot as plt\n",
        "from sklearn.model_selection import train_test_split\n",
        "from tensorflow.keras.utils import to_categorical\n",
        "from tensorflow.keras.utils import plot_model\n",
        "import os\n",
        "os.environ['TF_KERAS'] = '1'\n",
        "import keras2onnx\n",
        "\n",
        "print(\"Using keras2onnx version {}. Make sure it is 1.7.0\".format(keras2onnx.__version__))"
      ],
      "execution_count": 2,
      "outputs": [
        {
          "output_type": "stream",
          "text": [
            "Using keras2onnx version 1.7.0. Make sure it is 1.7.0\n"
          ],
          "name": "stdout"
        }
      ]
    },
    {
      "cell_type": "markdown",
      "metadata": {
        "id": "mH9guuXpw09P",
        "colab_type": "text"
      },
      "source": [
        "## Constants"
      ]
    },
    {
      "cell_type": "code",
      "metadata": {
        "id": "WcY0e3PTw2jb",
        "colab_type": "code",
        "colab": {}
      },
      "source": [
        "learning_rate = 0.01\n",
        "testing_data_percentage = 0.2\n",
        "nr_of_frames_per_sequence = 15\n",
        "nr_of_keypoints = 25\n",
        "nr_of_values_per_keypoint = 3\n",
        "\n",
        "all_files_names = [\"dragos_13_pushups_front_right.json\"]\n",
        "\n",
        "# Dataset paths\n",
        "DRAGOS_COLAB_DATASET_PATH = \"/content/drive/My Drive/QuarantineSportsDatasets/Dataset/OpenPoseDataset/\"\n",
        "LOCAL_DATASET_PATH = \"../datasets/\"\n",
        "\n",
        "# Model paths\n",
        "DRAGOS_COLAB_MODEL_PATH = \"/content/drive/My Drive/QuarantineSportsDatasets/Model/\"\n",
        "LOCAL_MODEL_PATH = \"../\"\n"
      ],
      "execution_count": 0,
      "outputs": []
    },
    {
      "cell_type": "code",
      "metadata": {
        "id": "-u1vWejYa1Ob",
        "colab_type": "code",
        "colab": {}
      },
      "source": [
        "current_dataset_path = DRAGOS_COLAB_DATASET_PATH\n",
        "current_model_path = DRAGOS_COLAB_MODEL_PATH"
      ],
      "execution_count": 0,
      "outputs": []
    },
    {
      "cell_type": "code",
      "metadata": {
        "id": "6cENXg0S81Lf",
        "colab_type": "code",
        "colab": {
          "base_uri": "https://localhost:8080/",
          "height": 35
        },
        "outputId": "43f7e5c1-382a-432c-a679-46e683127385"
      },
      "source": [
        "dataset_paths = []\n",
        "for path in all_files_names:\n",
        "  dataset_path = current_dataset_path + path\n",
        "  dataset_paths.append(dataset_path)\n",
        "\n",
        "print(\"All files found: {}\".format(dataset_paths))"
      ],
      "execution_count": 5,
      "outputs": [
        {
          "output_type": "stream",
          "text": [
            "All files found: ['/content/drive/My Drive/QuarantineSportsDatasets/Dataset/OpenPoseDataset/dragos_13_pushups_front_right.json']\n"
          ],
          "name": "stdout"
        }
      ]
    },
    {
      "cell_type": "markdown",
      "metadata": {
        "id": "w4Naobi1hABh",
        "colab_type": "text",
        "pycharm": {
          "name": "#%% md\n"
        }
      },
      "source": [
        "## Load Datasets and create X and Y\n",
        "\n",
        "## Important to know\n",
        "\n",
        "1.   Out of open pose we extract for all frames all the 25 keypoints (each keypoint contains the X, Y and score)\n",
        "2.   The Category exists per frame and is 0/1 as in Wrong/Correct as in Not a Push-Up Frame/Is a Push Up Frame\n"
      ]
    },
    {
      "cell_type": "code",
      "metadata": {
        "id": "agJssUaRasLn",
        "colab_type": "code",
        "colab": {
          "base_uri": "https://localhost:8080/",
          "height": 90
        },
        "outputId": "c0e149ba-8737-41f0-d221-49f72e690f9c"
      },
      "source": [
        "y_total = None\n",
        "x_total = None\n",
        "for (index, path) in enumerate(dataset_paths):\n",
        "  print(\"For file at {}\".format(path))\n",
        "  df = pd.read_json(path)\n",
        "  keypoints = df['Keypoints'].values\n",
        "  file_y = df['Category'].values\n",
        "  file_x = []\n",
        "  for k in keypoints:\n",
        "      if k != None:\n",
        "          newK = np.reshape(np.asarray(k), (25,3))\n",
        "          file_x.append(newK)\n",
        "      else:\n",
        "          file_x.append(np.reshape(np.zeros(75), (25,3)))\n",
        "  file_x = np.array(file_x)\n",
        "  print(\"X: {} and Y: {}\".format(file_x.shape, file_y.shape))\n",
        "  if np.all(x_total == None):\n",
        "    x_total = file_x\n",
        "  else:\n",
        "    x_total = np.vstack((x_total, file_x))\n",
        "  if np.all(y_total == None):\n",
        "    y_total = file_y\n",
        "  else:\n",
        "    y_total = np.hstack((y_total, file_y))\n",
        "print(\"Total X: {}\".format(x_total.shape))\n",
        "print(\"Total Y: {}\".format(y_total.shape))"
      ],
      "execution_count": 6,
      "outputs": [
        {
          "output_type": "stream",
          "text": [
            "For file at /content/drive/My Drive/QuarantineSportsDatasets/Dataset/OpenPoseDataset/dragos_13_pushups_front_right.json\n",
            "X: (2317, 25, 3) and Y: (2317,)\n",
            "Total X: (2317, 25, 3)\n",
            "Total Y: (2317,)\n"
          ],
          "name": "stdout"
        }
      ]
    },
    {
      "cell_type": "markdown",
      "metadata": {
        "id": "TcT9VZ-QoK9Q",
        "colab_type": "text"
      },
      "source": [
        "## Splitting the dataset into categories (wrong and correct)"
      ]
    },
    {
      "cell_type": "code",
      "metadata": {
        "id": "WryRhwOooJvm",
        "colab_type": "code",
        "colab": {}
      },
      "source": [
        "# Get Indexes\n",
        "y_wrong_index = np.where(y_total == 0)\n",
        "y_correct_index = np.where(y_total == 1)\n",
        "# Get Values\n",
        "x_wrong = x_total[y_wrong_index]\n",
        "y_wrong = y_total[y_wrong_index]\n",
        "x_correct = x_total[y_correct_index]\n",
        "y_correct = y_total[y_correct_index]\n"
      ],
      "execution_count": 0,
      "outputs": []
    },
    {
      "cell_type": "markdown",
      "metadata": {
        "id": "9oq8rBRLoKZc",
        "colab_type": "text"
      },
      "source": [
        "## Further splitting the frames into sequences"
      ]
    },
    {
      "cell_type": "code",
      "metadata": {
        "id": "SbPD8W4EqTxq",
        "colab_type": "code",
        "colab": {
          "base_uri": "https://localhost:8080/",
          "height": 274
        },
        "outputId": "10c1dcc9-5b40-4c6b-8476-d1c36558b8f0"
      },
      "source": [
        "print(\"Initial shapes\")\n",
        "print(\"y_wrong: {}\".format(y_wrong.shape))\n",
        "print(\"y_correct: {}\".format(y_correct.shape))\n",
        "print(\"x_wrong: {}\".format(x_wrong.shape))\n",
        "print(\"x_correct: {}\".format(x_correct.shape))\n",
        "\n",
        "class FrameSet:\n",
        "\n",
        "  def __init__(self, x, y):\n",
        "    self.x = x\n",
        "    self.y = y\n",
        "\n",
        "def get_maximum_number_of_usable_frames(a):\n",
        "  divider = nr_of_frames_per_sequence\n",
        "  i = 1\n",
        "  while (divider * i) < len(a):\n",
        "    i = i + 1\n",
        "  return divider * (i-1)\n",
        "\n",
        "def transform_y_into_frame_sets(a):\n",
        "  number_of_sets = get_maximum_number_of_usable_frames(a)\n",
        "  print(\"Number of sets: {}\".format(number_of_sets))\n",
        "  new_y = None\n",
        "  if np.any(a == 0):\n",
        "    new_y = np.zeros((int) (number_of_sets / nr_of_frames_per_sequence))\n",
        "  else:\n",
        "    new_y = np.ones((int) (number_of_sets / nr_of_frames_per_sequence))\n",
        "  return new_y\n",
        "\n",
        "def transform_x_into_frame_sets(a):\n",
        "  number_of_sets = get_maximum_number_of_usable_frames(a)\n",
        "  print(\"Number of sets: {}\".format(number_of_sets))\n",
        "  sub_group_size = a[0:number_of_sets]\n",
        "  return np.reshape(sub_group_size, ((int) (number_of_sets / nr_of_frames_per_sequence), nr_of_frames_per_sequence, nr_of_keypoints * nr_of_values_per_keypoint))\n",
        "\n",
        "y_wrong = transform_y_into_frame_sets(y_wrong)\n",
        "y_correct = transform_y_into_frame_sets(y_correct)\n",
        "x_wrong = transform_x_into_frame_sets(x_wrong)\n",
        "x_correct = transform_x_into_frame_sets(x_correct)\n",
        "print(\"After reshaping\")\n",
        "print(\"y_wrong: {}\".format(y_wrong.shape))\n",
        "print(\"y_correct: {}\".format(y_correct.shape))\n",
        "print(\"x_wrong: {}\".format(x_wrong.shape))\n",
        "print(\"x_correct: {}\".format(x_correct.shape))"
      ],
      "execution_count": 8,
      "outputs": [
        {
          "output_type": "stream",
          "text": [
            "Initial shapes\n",
            "y_wrong: (1607,)\n",
            "y_correct: (450,)\n",
            "x_wrong: (1607, 25, 3)\n",
            "x_correct: (450, 25, 3)\n",
            "Number of sets: 1605\n",
            "Number of sets: 435\n",
            "Number of sets: 1605\n",
            "Number of sets: 435\n",
            "After reshaping\n",
            "y_wrong: (107,)\n",
            "y_correct: (29,)\n",
            "x_wrong: (107, 15, 75)\n",
            "x_correct: (29, 15, 75)\n"
          ],
          "name": "stdout"
        }
      ]
    },
    {
      "cell_type": "markdown",
      "metadata": {
        "id": "gUOVmJhMvn3s",
        "colab_type": "text"
      },
      "source": [
        "## Recompine all wrong and correct arrays"
      ]
    },
    {
      "cell_type": "code",
      "metadata": {
        "id": "2NfEBzGJvl5U",
        "colab_type": "code",
        "colab": {
          "base_uri": "https://localhost:8080/",
          "height": 54
        },
        "outputId": "55f8a157-349e-4ba5-fd7a-8d374a8d2f54"
      },
      "source": [
        "# Only stack them when they are not empty\n",
        "x_processed = None\n",
        "y_processed = None\n",
        "x_processed = np.concatenate((x_correct, x_wrong))\n",
        "y_processed = np.concatenate((y_correct, y_wrong))\n",
        "y_processed = to_categorical(y_processed)\n",
        "print(x_processed.shape)\n",
        "print(y_processed.shape)"
      ],
      "execution_count": 9,
      "outputs": [
        {
          "output_type": "stream",
          "text": [
            "(136, 15, 75)\n",
            "(136, 2)\n"
          ],
          "name": "stdout"
        }
      ]
    },
    {
      "cell_type": "markdown",
      "metadata": {
        "id": "7gveOynHwpAr",
        "colab_type": "text"
      },
      "source": [
        "## Finally, split them into training and testing datasets"
      ]
    },
    {
      "cell_type": "code",
      "metadata": {
        "id": "KoOaqvu1v8Jj",
        "colab_type": "code",
        "colab": {
          "base_uri": "https://localhost:8080/",
          "height": 35
        },
        "outputId": "b2f95888-f4c1-4508-a6bc-5ded02f2f4f6"
      },
      "source": [
        "x_train, x_test, y_train, y_test = train_test_split(x_processed, y_processed, test_size=0.2)\n",
        "print(\"Number of training Frame Sets {} and number of testing Frame sets {}\".format(len(x_train), len(x_test)))"
      ],
      "execution_count": 10,
      "outputs": [
        {
          "output_type": "stream",
          "text": [
            "Number of training Frame Sets 108 and number of testing Frame sets 28\n"
          ],
          "name": "stdout"
        }
      ]
    },
    {
      "cell_type": "markdown",
      "metadata": {
        "id": "PKpqu9xqyUuZ",
        "colab_type": "text"
      },
      "source": [
        "## Defining the Model"
      ]
    },
    {
      "cell_type": "code",
      "metadata": {
        "id": "rAxT0lF6xRoU",
        "colab_type": "code",
        "colab": {
          "base_uri": "https://localhost:8080/",
          "height": 698
        },
        "outputId": "0539fe1e-a2a1-457a-a24c-bbce449dfa5a"
      },
      "source": [
        "print(x_train.shape)\n",
        "model = tf.keras.Sequential()\n",
        "model.add(tf.keras.Input(shape=(15, 75)))\n",
        "model.add(tf.keras.layers.LSTM(15, input_shape=(15, 75), activation='relu'))\n",
        "model.add(tf.keras.layers.Dropout(0.2, input_shape=(15,)))\n",
        "model.add(tf.keras.layers.Dense(2, activation='softmax'))\n",
        "model.compile(optimizer=tf.keras.optimizers.RMSprop(learning_rate=learning_rate),loss='categorical_crossentropy',\n",
        "              metrics=[tf.keras.metrics.categorical_crossentropy])\n",
        "model.summary()\n",
        "plot_model(model, to_file='model_plot.png', show_shapes=True, show_layer_names=True)"
      ],
      "execution_count": 11,
      "outputs": [
        {
          "output_type": "stream",
          "text": [
            "(108, 15, 75)\n",
            "Model: \"sequential\"\n",
            "_________________________________________________________________\n",
            "Layer (type)                 Output Shape              Param #   \n",
            "=================================================================\n",
            "lstm (LSTM)                  (None, 15)                5460      \n",
            "_________________________________________________________________\n",
            "dropout (Dropout)            (None, 15)                0         \n",
            "_________________________________________________________________\n",
            "dense (Dense)                (None, 2)                 32        \n",
            "=================================================================\n",
            "Total params: 5,492\n",
            "Trainable params: 5,492\n",
            "Non-trainable params: 0\n",
            "_________________________________________________________________\n"
          ],
          "name": "stdout"
        },
        {
          "output_type": "execute_result",
          "data": {
            "image/png": "[encoded data removed]",
            "text/plain": [
              "<IPython.core.display.Image object>"
            ]
          },
          "metadata": {
            "tags": []
          },
          "execution_count": 11
        }
      ]
    },
    {
      "cell_type": "markdown",
      "metadata": {
        "id": "N0scvn6pXTNg",
        "colab_type": "text"
      },
      "source": [
        "# Training Model"
      ]
    },
    {
      "cell_type": "code",
      "metadata": {
        "id": "zWT1FZIOXSq2",
        "colab_type": "code",
        "colab": {
          "base_uri": "https://localhost:8080/",
          "height": 439
        },
        "outputId": "67a4b55b-7fdf-4dbd-a011-8134aa9deef8"
      },
      "source": [
        "# Training\n",
        "print(\"\\n# Training\")\n",
        "model.fit(x_train, y_train, epochs=10, batch_size=15, verbose=1)"
      ],
      "execution_count": 12,
      "outputs": [
        {
          "output_type": "stream",
          "text": [
            "\n",
            "# Training\n",
            "Epoch 1/10\n",
            "8/8 [==============================] - 0s 6ms/step - loss: 2.8878 - categorical_crossentropy: 2.8878\n",
            "Epoch 2/10\n",
            "8/8 [==============================] - 0s 5ms/step - loss: 0.5937 - categorical_crossentropy: 0.5937\n",
            "Epoch 3/10\n",
            "8/8 [==============================] - 0s 5ms/step - loss: 0.3281 - categorical_crossentropy: 0.3281\n",
            "Epoch 4/10\n",
            "8/8 [==============================] - 0s 5ms/step - loss: 0.2956 - categorical_crossentropy: 0.2956\n",
            "Epoch 5/10\n",
            "8/8 [==============================] - 0s 6ms/step - loss: 0.1765 - categorical_crossentropy: 0.1765\n",
            "Epoch 6/10\n",
            "8/8 [==============================] - 0s 6ms/step - loss: 0.3405 - categorical_crossentropy: 0.3405\n",
            "Epoch 7/10\n",
            "8/8 [==============================] - 0s 5ms/step - loss: 0.3404 - categorical_crossentropy: 0.3404\n",
            "Epoch 8/10\n",
            "8/8 [==============================] - 0s 5ms/step - loss: 0.1014 - categorical_crossentropy: 0.1014\n",
            "Epoch 9/10\n",
            "8/8 [==============================] - 0s 5ms/step - loss: 0.1118 - categorical_crossentropy: 0.1118\n",
            "Epoch 10/10\n",
            "8/8 [==============================] - 0s 5ms/step - loss: 0.5189 - categorical_crossentropy: 0.5189\n"
          ],
          "name": "stdout"
        },
        {
          "output_type": "execute_result",
          "data": {
            "text/plain": [
              "<tensorflow.python.keras.callbacks.History at 0x7fcb9889dba8>"
            ]
          },
          "metadata": {
            "tags": []
          },
          "execution_count": 12
        }
      ]
    },
    {
      "cell_type": "code",
      "metadata": {
        "id": "UvvSYkF2YA0P",
        "colab_type": "code",
        "colab": {
          "base_uri": "https://localhost:8080/",
          "height": 109
        },
        "outputId": "00f97239-9f92-4ae8-bc1c-ba462ae6e843"
      },
      "source": [
        "print('\\n# Evaluate')\n",
        "result = model.evaluate(x_test, y_test, batch_size=1, verbose=1)\n",
        "print(result)\n",
        "dict(zip(model.metrics_names, result))"
      ],
      "execution_count": 15,
      "outputs": [
        {
          "output_type": "stream",
          "text": [
            "\n",
            "# Evaluate\n",
            "28/28 [==============================] - 0s 2ms/step - loss: 0.0628 - categorical_crossentropy: 0.0628\n",
            "[0.06282170116901398, 0.06282170116901398]\n"
          ],
          "name": "stdout"
        },
        {
          "output_type": "execute_result",
          "data": {
            "text/plain": [
              "{'categorical_crossentropy': 0.06282170116901398, 'loss': 0.06282170116901398}"
            ]
          },
          "metadata": {
            "tags": []
          },
          "execution_count": 15
        }
      ]
    },
    {
      "cell_type": "code",
      "metadata": {
        "id": "68l-WvCuYA7u",
        "colab_type": "code",
        "colab": {
          "base_uri": "https://localhost:8080/",
          "height": 531
        },
        "outputId": "6a150814-118b-4222-e18f-ccd40670dc73"
      },
      "source": [
        "predict = model.predict(x_test)\n",
        "for (index, p) in enumerate(predict):\n",
        "  p_category = None\n",
        "  if p[0] >= p[1]:\n",
        "    p_category = 0\n",
        "  else:\n",
        "    p_category = 1\n",
        "  e_category = None\n",
        "  if y_test[index][0] >= y_test[index][1]:\n",
        "    e_category = 0\n",
        "  else:\n",
        "    e_category = 1\n",
        "  print(\"Predicted {} and expected {}\".format(p_category, e_category))"
      ],
      "execution_count": 16,
      "outputs": [
        {
          "output_type": "stream",
          "text": [
            "Predicted 0 and expected 0\n",
            "Predicted 0 and expected 0\n",
            "Predicted 0 and expected 0\n",
            "Predicted 0 and expected 0\n",
            "Predicted 1 and expected 1\n",
            "Predicted 0 and expected 0\n",
            "Predicted 0 and expected 0\n",
            "Predicted 0 and expected 0\n",
            "Predicted 1 and expected 1\n",
            "Predicted 0 and expected 0\n",
            "Predicted 0 and expected 0\n",
            "Predicted 1 and expected 1\n",
            "Predicted 0 and expected 0\n",
            "Predicted 0 and expected 0\n",
            "Predicted 0 and expected 0\n",
            "Predicted 0 and expected 0\n",
            "Predicted 0 and expected 0\n",
            "Predicted 0 and expected 0\n",
            "Predicted 0 and expected 0\n",
            "Predicted 0 and expected 0\n",
            "Predicted 0 and expected 0\n",
            "Predicted 0 and expected 0\n",
            "Predicted 0 and expected 0\n",
            "Predicted 0 and expected 0\n",
            "Predicted 0 and expected 0\n",
            "Predicted 1 and expected 1\n",
            "Predicted 1 and expected 1\n",
            "Predicted 0 and expected 0\n"
          ],
          "name": "stdout"
        }
      ]
    },
    {
      "cell_type": "markdown",
      "metadata": {
        "id": "-3uAeb4Em6NN",
        "colab_type": "text"
      },
      "source": [
        "## Saving Model to JSON"
      ]
    },
    {
      "cell_type": "code",
      "metadata": {
        "id": "s_xj1aCJX_Vw",
        "colab_type": "code",
        "colab": {
          "base_uri": "https://localhost:8080/",
          "height": 35
        },
        "outputId": "35da0c7a-6e0e-41bf-fabc-f7abd4528122"
      },
      "source": [
        "# serialize model to JSON\n",
        "model_json = model.to_json()\n",
        "with open(current_model_path + \"model.json\", \"w\") as json_file:\n",
        "    json_file.write(model_json)\n",
        "# serialize weights to HDF5\n",
        "model.save_weights(current_model_path + \"model.h5\")\n",
        "print(\"Saved model to disk\")"
      ],
      "execution_count": 13,
      "outputs": [
        {
          "output_type": "stream",
          "text": [
            "Saved model to disk\n"
          ],
          "name": "stdout"
        }
      ]
    },
    {
      "cell_type": "markdown",
      "metadata": {
        "id": "71uefXeZRHC8",
        "colab_type": "text"
      },
      "source": [
        "# Convert Model to ONNX"
      ]
    },
    {
      "cell_type": "code",
      "metadata": {
        "id": "YHg7iQgJRGdd",
        "colab_type": "code",
        "colab": {
          "base_uri": "https://localhost:8080/",
          "height": 90
        },
        "outputId": "31359c03-b5c1-4694-8f37-1ec390ed942d"
      },
      "source": [
        "onnx_model = keras2onnx.convert_keras(model)\n",
        "keras2onnx.save_model(onnx_model, current_model_path + \"model.onnx\")"
      ],
      "execution_count": 14,
      "outputs": [
        {
          "output_type": "stream",
          "text": [
            "tf executing eager_mode: True\n",
            "tf.keras model eager_mode: False\n",
            "The ONNX operator number change on the optimization: 11 -> 6\n",
            "The maximum opset needed by this model is only 11.\n"
          ],
          "name": "stderr"
        }
      ]
    },
    {
      "cell_type": "markdown",
      "metadata": {
        "id": "SebX2gYurL_B",
        "colab_type": "text"
      },
      "source": [
        "## Finish"
      ]
    }
  ]
}